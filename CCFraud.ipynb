{
 "cells": [
  {
   "cell_type": "code",
   "execution_count": 1,
   "id": "03a3a5c4-e14e-4900-b322-5de49699bd5b",
   "metadata": {},
   "outputs": [],
   "source": [
    "import numpy as np\n",
    "import pandas as pd\n",
    "import matplotlib.pyplot as plt\n",
    "%matplotlib inline\n",
    "import seaborn as sns\n",
    "import warnings \n",
    "warnings.filterwarnings(\"ignore\")"
   ]
  },
  {
   "cell_type": "markdown",
   "id": "2aceef73-4759-441b-b116-25d11031114e",
   "metadata": {},
   "source": [
    "# 1. data observation & processing"
   ]
  },
  {
   "cell_type": "code",
   "execution_count": 2,
   "id": "8559411e-a38a-46c8-b74e-587bd4f46cf6",
   "metadata": {},
   "outputs": [],
   "source": [
    "data =pd.read_csv(\"creditcard.csv\")"
   ]
  },
  {
   "cell_type": "code",
   "execution_count": 3,
   "id": "a5a78d5b-1391-40a3-a930-b32c0a7102ee",
   "metadata": {},
   "outputs": [
    {
     "data": {
      "text/html": [
       "<div>\n",
       "<style scoped>\n",
       "    .dataframe tbody tr th:only-of-type {\n",
       "        vertical-align: middle;\n",
       "    }\n",
       "\n",
       "    .dataframe tbody tr th {\n",
       "        vertical-align: top;\n",
       "    }\n",
       "\n",
       "    .dataframe thead th {\n",
       "        text-align: right;\n",
       "    }\n",
       "</style>\n",
       "<table border=\"1\" class=\"dataframe\">\n",
       "  <thead>\n",
       "    <tr style=\"text-align: right;\">\n",
       "      <th></th>\n",
       "      <th>Time</th>\n",
       "      <th>V1</th>\n",
       "      <th>V2</th>\n",
       "      <th>V3</th>\n",
       "      <th>V4</th>\n",
       "      <th>V5</th>\n",
       "      <th>V6</th>\n",
       "      <th>V7</th>\n",
       "      <th>V8</th>\n",
       "      <th>V9</th>\n",
       "      <th>...</th>\n",
       "      <th>V21</th>\n",
       "      <th>V22</th>\n",
       "      <th>V23</th>\n",
       "      <th>V24</th>\n",
       "      <th>V25</th>\n",
       "      <th>V26</th>\n",
       "      <th>V27</th>\n",
       "      <th>V28</th>\n",
       "      <th>Amount</th>\n",
       "      <th>Class</th>\n",
       "    </tr>\n",
       "  </thead>\n",
       "  <tbody>\n",
       "    <tr>\n",
       "      <th>0</th>\n",
       "      <td>0.0</td>\n",
       "      <td>-1.359807</td>\n",
       "      <td>-0.072781</td>\n",
       "      <td>2.536347</td>\n",
       "      <td>1.378155</td>\n",
       "      <td>-0.338321</td>\n",
       "      <td>0.462388</td>\n",
       "      <td>0.239599</td>\n",
       "      <td>0.098698</td>\n",
       "      <td>0.363787</td>\n",
       "      <td>...</td>\n",
       "      <td>-0.018307</td>\n",
       "      <td>0.277838</td>\n",
       "      <td>-0.110474</td>\n",
       "      <td>0.066928</td>\n",
       "      <td>0.128539</td>\n",
       "      <td>-0.189115</td>\n",
       "      <td>0.133558</td>\n",
       "      <td>-0.021053</td>\n",
       "      <td>149.62</td>\n",
       "      <td>0</td>\n",
       "    </tr>\n",
       "    <tr>\n",
       "      <th>1</th>\n",
       "      <td>0.0</td>\n",
       "      <td>1.191857</td>\n",
       "      <td>0.266151</td>\n",
       "      <td>0.166480</td>\n",
       "      <td>0.448154</td>\n",
       "      <td>0.060018</td>\n",
       "      <td>-0.082361</td>\n",
       "      <td>-0.078803</td>\n",
       "      <td>0.085102</td>\n",
       "      <td>-0.255425</td>\n",
       "      <td>...</td>\n",
       "      <td>-0.225775</td>\n",
       "      <td>-0.638672</td>\n",
       "      <td>0.101288</td>\n",
       "      <td>-0.339846</td>\n",
       "      <td>0.167170</td>\n",
       "      <td>0.125895</td>\n",
       "      <td>-0.008983</td>\n",
       "      <td>0.014724</td>\n",
       "      <td>2.69</td>\n",
       "      <td>0</td>\n",
       "    </tr>\n",
       "    <tr>\n",
       "      <th>2</th>\n",
       "      <td>1.0</td>\n",
       "      <td>-1.358354</td>\n",
       "      <td>-1.340163</td>\n",
       "      <td>1.773209</td>\n",
       "      <td>0.379780</td>\n",
       "      <td>-0.503198</td>\n",
       "      <td>1.800499</td>\n",
       "      <td>0.791461</td>\n",
       "      <td>0.247676</td>\n",
       "      <td>-1.514654</td>\n",
       "      <td>...</td>\n",
       "      <td>0.247998</td>\n",
       "      <td>0.771679</td>\n",
       "      <td>0.909412</td>\n",
       "      <td>-0.689281</td>\n",
       "      <td>-0.327642</td>\n",
       "      <td>-0.139097</td>\n",
       "      <td>-0.055353</td>\n",
       "      <td>-0.059752</td>\n",
       "      <td>378.66</td>\n",
       "      <td>0</td>\n",
       "    </tr>\n",
       "    <tr>\n",
       "      <th>3</th>\n",
       "      <td>1.0</td>\n",
       "      <td>-0.966272</td>\n",
       "      <td>-0.185226</td>\n",
       "      <td>1.792993</td>\n",
       "      <td>-0.863291</td>\n",
       "      <td>-0.010309</td>\n",
       "      <td>1.247203</td>\n",
       "      <td>0.237609</td>\n",
       "      <td>0.377436</td>\n",
       "      <td>-1.387024</td>\n",
       "      <td>...</td>\n",
       "      <td>-0.108300</td>\n",
       "      <td>0.005274</td>\n",
       "      <td>-0.190321</td>\n",
       "      <td>-1.175575</td>\n",
       "      <td>0.647376</td>\n",
       "      <td>-0.221929</td>\n",
       "      <td>0.062723</td>\n",
       "      <td>0.061458</td>\n",
       "      <td>123.50</td>\n",
       "      <td>0</td>\n",
       "    </tr>\n",
       "    <tr>\n",
       "      <th>4</th>\n",
       "      <td>2.0</td>\n",
       "      <td>-1.158233</td>\n",
       "      <td>0.877737</td>\n",
       "      <td>1.548718</td>\n",
       "      <td>0.403034</td>\n",
       "      <td>-0.407193</td>\n",
       "      <td>0.095921</td>\n",
       "      <td>0.592941</td>\n",
       "      <td>-0.270533</td>\n",
       "      <td>0.817739</td>\n",
       "      <td>...</td>\n",
       "      <td>-0.009431</td>\n",
       "      <td>0.798278</td>\n",
       "      <td>-0.137458</td>\n",
       "      <td>0.141267</td>\n",
       "      <td>-0.206010</td>\n",
       "      <td>0.502292</td>\n",
       "      <td>0.219422</td>\n",
       "      <td>0.215153</td>\n",
       "      <td>69.99</td>\n",
       "      <td>0</td>\n",
       "    </tr>\n",
       "    <tr>\n",
       "      <th>5</th>\n",
       "      <td>2.0</td>\n",
       "      <td>-0.425966</td>\n",
       "      <td>0.960523</td>\n",
       "      <td>1.141109</td>\n",
       "      <td>-0.168252</td>\n",
       "      <td>0.420987</td>\n",
       "      <td>-0.029728</td>\n",
       "      <td>0.476201</td>\n",
       "      <td>0.260314</td>\n",
       "      <td>-0.568671</td>\n",
       "      <td>...</td>\n",
       "      <td>-0.208254</td>\n",
       "      <td>-0.559825</td>\n",
       "      <td>-0.026398</td>\n",
       "      <td>-0.371427</td>\n",
       "      <td>-0.232794</td>\n",
       "      <td>0.105915</td>\n",
       "      <td>0.253844</td>\n",
       "      <td>0.081080</td>\n",
       "      <td>3.67</td>\n",
       "      <td>0</td>\n",
       "    </tr>\n",
       "    <tr>\n",
       "      <th>6</th>\n",
       "      <td>4.0</td>\n",
       "      <td>1.229658</td>\n",
       "      <td>0.141004</td>\n",
       "      <td>0.045371</td>\n",
       "      <td>1.202613</td>\n",
       "      <td>0.191881</td>\n",
       "      <td>0.272708</td>\n",
       "      <td>-0.005159</td>\n",
       "      <td>0.081213</td>\n",
       "      <td>0.464960</td>\n",
       "      <td>...</td>\n",
       "      <td>-0.167716</td>\n",
       "      <td>-0.270710</td>\n",
       "      <td>-0.154104</td>\n",
       "      <td>-0.780055</td>\n",
       "      <td>0.750137</td>\n",
       "      <td>-0.257237</td>\n",
       "      <td>0.034507</td>\n",
       "      <td>0.005168</td>\n",
       "      <td>4.99</td>\n",
       "      <td>0</td>\n",
       "    </tr>\n",
       "    <tr>\n",
       "      <th>7</th>\n",
       "      <td>7.0</td>\n",
       "      <td>-0.644269</td>\n",
       "      <td>1.417964</td>\n",
       "      <td>1.074380</td>\n",
       "      <td>-0.492199</td>\n",
       "      <td>0.948934</td>\n",
       "      <td>0.428118</td>\n",
       "      <td>1.120631</td>\n",
       "      <td>-3.807864</td>\n",
       "      <td>0.615375</td>\n",
       "      <td>...</td>\n",
       "      <td>1.943465</td>\n",
       "      <td>-1.015455</td>\n",
       "      <td>0.057504</td>\n",
       "      <td>-0.649709</td>\n",
       "      <td>-0.415267</td>\n",
       "      <td>-0.051634</td>\n",
       "      <td>-1.206921</td>\n",
       "      <td>-1.085339</td>\n",
       "      <td>40.80</td>\n",
       "      <td>0</td>\n",
       "    </tr>\n",
       "    <tr>\n",
       "      <th>8</th>\n",
       "      <td>7.0</td>\n",
       "      <td>-0.894286</td>\n",
       "      <td>0.286157</td>\n",
       "      <td>-0.113192</td>\n",
       "      <td>-0.271526</td>\n",
       "      <td>2.669599</td>\n",
       "      <td>3.721818</td>\n",
       "      <td>0.370145</td>\n",
       "      <td>0.851084</td>\n",
       "      <td>-0.392048</td>\n",
       "      <td>...</td>\n",
       "      <td>-0.073425</td>\n",
       "      <td>-0.268092</td>\n",
       "      <td>-0.204233</td>\n",
       "      <td>1.011592</td>\n",
       "      <td>0.373205</td>\n",
       "      <td>-0.384157</td>\n",
       "      <td>0.011747</td>\n",
       "      <td>0.142404</td>\n",
       "      <td>93.20</td>\n",
       "      <td>0</td>\n",
       "    </tr>\n",
       "    <tr>\n",
       "      <th>9</th>\n",
       "      <td>9.0</td>\n",
       "      <td>-0.338262</td>\n",
       "      <td>1.119593</td>\n",
       "      <td>1.044367</td>\n",
       "      <td>-0.222187</td>\n",
       "      <td>0.499361</td>\n",
       "      <td>-0.246761</td>\n",
       "      <td>0.651583</td>\n",
       "      <td>0.069539</td>\n",
       "      <td>-0.736727</td>\n",
       "      <td>...</td>\n",
       "      <td>-0.246914</td>\n",
       "      <td>-0.633753</td>\n",
       "      <td>-0.120794</td>\n",
       "      <td>-0.385050</td>\n",
       "      <td>-0.069733</td>\n",
       "      <td>0.094199</td>\n",
       "      <td>0.246219</td>\n",
       "      <td>0.083076</td>\n",
       "      <td>3.68</td>\n",
       "      <td>0</td>\n",
       "    </tr>\n",
       "  </tbody>\n",
       "</table>\n",
       "<p>10 rows × 31 columns</p>\n",
       "</div>"
      ],
      "text/plain": [
       "   Time        V1        V2        V3        V4        V5        V6        V7  \\\n",
       "0   0.0 -1.359807 -0.072781  2.536347  1.378155 -0.338321  0.462388  0.239599   \n",
       "1   0.0  1.191857  0.266151  0.166480  0.448154  0.060018 -0.082361 -0.078803   \n",
       "2   1.0 -1.358354 -1.340163  1.773209  0.379780 -0.503198  1.800499  0.791461   \n",
       "3   1.0 -0.966272 -0.185226  1.792993 -0.863291 -0.010309  1.247203  0.237609   \n",
       "4   2.0 -1.158233  0.877737  1.548718  0.403034 -0.407193  0.095921  0.592941   \n",
       "5   2.0 -0.425966  0.960523  1.141109 -0.168252  0.420987 -0.029728  0.476201   \n",
       "6   4.0  1.229658  0.141004  0.045371  1.202613  0.191881  0.272708 -0.005159   \n",
       "7   7.0 -0.644269  1.417964  1.074380 -0.492199  0.948934  0.428118  1.120631   \n",
       "8   7.0 -0.894286  0.286157 -0.113192 -0.271526  2.669599  3.721818  0.370145   \n",
       "9   9.0 -0.338262  1.119593  1.044367 -0.222187  0.499361 -0.246761  0.651583   \n",
       "\n",
       "         V8        V9  ...       V21       V22       V23       V24       V25  \\\n",
       "0  0.098698  0.363787  ... -0.018307  0.277838 -0.110474  0.066928  0.128539   \n",
       "1  0.085102 -0.255425  ... -0.225775 -0.638672  0.101288 -0.339846  0.167170   \n",
       "2  0.247676 -1.514654  ...  0.247998  0.771679  0.909412 -0.689281 -0.327642   \n",
       "3  0.377436 -1.387024  ... -0.108300  0.005274 -0.190321 -1.175575  0.647376   \n",
       "4 -0.270533  0.817739  ... -0.009431  0.798278 -0.137458  0.141267 -0.206010   \n",
       "5  0.260314 -0.568671  ... -0.208254 -0.559825 -0.026398 -0.371427 -0.232794   \n",
       "6  0.081213  0.464960  ... -0.167716 -0.270710 -0.154104 -0.780055  0.750137   \n",
       "7 -3.807864  0.615375  ...  1.943465 -1.015455  0.057504 -0.649709 -0.415267   \n",
       "8  0.851084 -0.392048  ... -0.073425 -0.268092 -0.204233  1.011592  0.373205   \n",
       "9  0.069539 -0.736727  ... -0.246914 -0.633753 -0.120794 -0.385050 -0.069733   \n",
       "\n",
       "        V26       V27       V28  Amount  Class  \n",
       "0 -0.189115  0.133558 -0.021053  149.62      0  \n",
       "1  0.125895 -0.008983  0.014724    2.69      0  \n",
       "2 -0.139097 -0.055353 -0.059752  378.66      0  \n",
       "3 -0.221929  0.062723  0.061458  123.50      0  \n",
       "4  0.502292  0.219422  0.215153   69.99      0  \n",
       "5  0.105915  0.253844  0.081080    3.67      0  \n",
       "6 -0.257237  0.034507  0.005168    4.99      0  \n",
       "7 -0.051634 -1.206921 -1.085339   40.80      0  \n",
       "8 -0.384157  0.011747  0.142404   93.20      0  \n",
       "9  0.094199  0.246219  0.083076    3.68      0  \n",
       "\n",
       "[10 rows x 31 columns]"
      ]
     },
     "execution_count": 3,
     "metadata": {},
     "output_type": "execute_result"
    }
   ],
   "source": [
    "data.head(10)"
   ]
  },
  {
   "cell_type": "code",
   "execution_count": 4,
   "id": "177df308-69d4-4cea-a6ee-f11edcc670ba",
   "metadata": {},
   "outputs": [
    {
     "name": "stdout",
     "output_type": "stream",
     "text": [
      "<class 'pandas.core.frame.DataFrame'>\n",
      "RangeIndex: 284807 entries, 0 to 284806\n",
      "Data columns (total 31 columns):\n",
      " #   Column  Non-Null Count   Dtype  \n",
      "---  ------  --------------   -----  \n",
      " 0   Time    284807 non-null  float64\n",
      " 1   V1      284807 non-null  float64\n",
      " 2   V2      284807 non-null  float64\n",
      " 3   V3      284807 non-null  float64\n",
      " 4   V4      284807 non-null  float64\n",
      " 5   V5      284807 non-null  float64\n",
      " 6   V6      284807 non-null  float64\n",
      " 7   V7      284807 non-null  float64\n",
      " 8   V8      284807 non-null  float64\n",
      " 9   V9      284807 non-null  float64\n",
      " 10  V10     284807 non-null  float64\n",
      " 11  V11     284807 non-null  float64\n",
      " 12  V12     284807 non-null  float64\n",
      " 13  V13     284807 non-null  float64\n",
      " 14  V14     284807 non-null  float64\n",
      " 15  V15     284807 non-null  float64\n",
      " 16  V16     284807 non-null  float64\n",
      " 17  V17     284807 non-null  float64\n",
      " 18  V18     284807 non-null  float64\n",
      " 19  V19     284807 non-null  float64\n",
      " 20  V20     284807 non-null  float64\n",
      " 21  V21     284807 non-null  float64\n",
      " 22  V22     284807 non-null  float64\n",
      " 23  V23     284807 non-null  float64\n",
      " 24  V24     284807 non-null  float64\n",
      " 25  V25     284807 non-null  float64\n",
      " 26  V26     284807 non-null  float64\n",
      " 27  V27     284807 non-null  float64\n",
      " 28  V28     284807 non-null  float64\n",
      " 29  Amount  284807 non-null  float64\n",
      " 30  Class   284807 non-null  int64  \n",
      "dtypes: float64(30), int64(1)\n",
      "memory usage: 67.4 MB\n"
     ]
    }
   ],
   "source": [
    "data.info()"
   ]
  },
  {
   "cell_type": "code",
   "execution_count": 5,
   "id": "825c4052-a939-4972-a4bf-46c999411d8b",
   "metadata": {},
   "outputs": [
    {
     "data": {
      "image/png": "[encoded data removed]",
      "text/plain": [
       "<Figure size 1080x1080 with 30 Axes>"
      ]
     },
     "metadata": {
      "needs_background": "light"
     },
     "output_type": "display_data"
    }
   ],
   "source": [
    "data.drop(['Class'],axis=1).hist(bins=50,figsize=(15,15))\n",
    "plt.show()"
   ]
  },
  {
   "cell_type": "code",
   "execution_count": 6,
   "id": "1617194e-570d-4e42-9467-97d265478fa9",
   "metadata": {},
   "outputs": [
    {
     "name": "stdout",
     "output_type": "stream",
     "text": [
      "0    284315\n",
      "1       492\n",
      "Name: Class, dtype: int64\n"
     ]
    }
   ],
   "source": [
    "classAmount=data[\"Class\"].value_counts()\n",
    "print(classAmount)"
   ]
  },
  {
   "cell_type": "code",
   "execution_count": 7,
   "id": "407e2bab-21a0-4ce8-a386-6e0ab5802ac0",
   "metadata": {},
   "outputs": [
    {
     "name": "stdout",
     "output_type": "stream",
     "text": [
      "percentage of fraud transaction is 0.173%\n",
      "percentage of normal transaction is 99.827%\n"
     ]
    }
   ],
   "source": [
    "f_count=len(data[data[\"Class\"]==1])\n",
    "n_count=len(data[data[\"Class\"]==0])\n",
    "print(\"percentage of fraud transaction is %.03f\"%(f_count/(f_count+n_count)*100)+\"%\")\n",
    "print(\"percentage of normal transaction is %.03f\"%(n_count/(f_count+n_count)*100)+\"%\")"
   ]
  },
  {
   "cell_type": "code",
   "execution_count": 8,
   "id": "2470a903-0fa2-4329-9112-5bf736992f82",
   "metadata": {},
   "outputs": [
    {
     "data": {
      "image/png": "[encoded data removed]",
      "text/plain": [
       "<Figure size 432x288 with 1 Axes>"
      ]
     },
     "metadata": {
      "needs_background": "light"
     },
     "output_type": "display_data"
    }
   ],
   "source": [
    "classAmount.plot.bar()\n",
    "plt.title(\"Class Distribution\")\n",
    "plt.xlabel(\"Class\")\n",
    "plt.ylabel(\"No. of transactions\")\n",
    "plt.show()"
   ]
  },
  {
   "cell_type": "markdown",
   "id": "f44a0171-6c92-48a1-bc21-23e592a383c2",
   "metadata": {},
   "source": [
    "#### out of 284807 transactions, only 492 are fraudulent, thus, the datasets is highly imbalanced"
   ]
  },
  {
   "cell_type": "markdown",
   "id": "418b3200-c578-4b0d-975e-295ad94e8b06",
   "metadata": {},
   "source": [
    "## 1.1 check if \"amount\" is associated with class"
   ]
  },
  {
   "cell_type": "code",
   "execution_count": 9,
   "id": "df55dd55-7322-4eb9-a2c9-880533920f62",
   "metadata": {},
   "outputs": [
    {
     "data": {
      "image/png": "[encoded data removed]",
      "text/plain": [
       "<Figure size 864x360 with 2 Axes>"
      ]
     },
     "metadata": {
      "needs_background": "light"
     },
     "output_type": "display_data"
    }
   ],
   "source": [
    "FraudTransaction=data[data[\"Class\"]==1]\n",
    "NormalTransaction=data[data[\"Class\"]==0]\n",
    "f,[ax1,ax2]=plt.subplots(1,2,figsize=(12,5))\n",
    "FraudTransaction[\"Amount\"].plot.hist(title=\"Fraud\",ax=ax1,bins=30)\n",
    "NormalTransaction[\"Amount\"].plot.hist(title=\"normal\",ax=ax2,bins=30)\n",
    "plt.show()"
   ]
  },
  {
   "cell_type": "code",
   "execution_count": 10,
   "id": "63cd4b23-1386-4988-82b9-b643c1e6ea1e",
   "metadata": {},
   "outputs": [
    {
     "data": {
      "image/png": "[encoded data removed]",
      "text/plain": [
       "<Figure size 864x360 with 2 Axes>"
      ]
     },
     "metadata": {
      "needs_background": "light"
     },
     "output_type": "display_data"
    }
   ],
   "source": [
    "f,[ax1,ax2]=plt.subplots(1,2,figsize=(12,5)) # 选则这一列，看其出现的频率\n",
    "FraudTransaction[FraudTransaction[\"Amount\"]<2500].Amount.plot.hist(title=\"Fraud\",ax=ax1,bins=30)\n",
    "NormalTransaction[NormalTransaction[\"Amount\"]<2500].Amount.plot.hist(title=\"normal\",ax=ax2,bins=30)\n",
    "plt.show()"
   ]
  },
  {
   "cell_type": "markdown",
   "id": "23aeb5cd-156b-4f86-b530-78c85c8e8e43",
   "metadata": {},
   "source": [
    "#### conclusion： Amount has not obvious association with fraud."
   ]
  },
  {
   "cell_type": "markdown",
   "id": "cc136b8e-7037-4b8f-8418-740d78dca193",
   "metadata": {},
   "source": [
    "## 1.2 Check the feature Correlation Map"
   ]
  },
  {
   "cell_type": "code",
   "execution_count": 11,
   "id": "a21317bb-1f9e-412e-b7b0-65c29816416f",
   "metadata": {},
   "outputs": [
    {
     "data": {
      "image/png": "[encoded data removed]",
      "text/plain": [
       "<Figure size 1080x504 with 4 Axes>"
      ]
     },
     "metadata": {
      "needs_background": "light"
     },
     "output_type": "display_data"
    }
   ],
   "source": [
    "f,[ax1,ax2]=plt.subplots(1,2,figsize=(15,7))\n",
    "sns.heatmap(FraudTransaction.corr(),ax=ax1,square=True)\n",
    "ax1.set_title(\"Fraud\")\n",
    "sns.heatmap(NormalTransaction.corr(),ax=ax2,square=True)\n",
    "ax2.set_title(\"Normal\")\n",
    "plt.show()"
   ]
  },
  {
   "cell_type": "markdown",
   "id": "ecea0124-ec9c-481d-89a2-92a33302ee8a",
   "metadata": {},
   "source": [
    "#### conclusion: the correlation between the features of those two types of data is obvious different"
   ]
  },
  {
   "cell_type": "markdown",
   "id": "a8352074-bfb4-46fa-a0b6-66fbd60efaa0",
   "metadata": {},
   "source": [
    "## 1.3 Sampling & Standardization"
   ]
  },
  {
   "cell_type": "markdown",
   "id": "86f0dd56-ea41-47a1-bf55-f2faa35f06af",
   "metadata": {},
   "source": [
    "##### for the data is imbalanced,  oversampling is adopted"
   ]
  },
  {
   "cell_type": "code",
   "execution_count": 12,
   "id": "336ad50a-f2f6-4ef0-b2a0-81060301c74b",
   "metadata": {},
   "outputs": [],
   "source": [
    "from sklearn.model_selection import train_test_split\n",
    "from imblearn.over_sampling import SMOTE\n",
    "from sklearn.preprocessing import StandardScaler"
   ]
  },
  {
   "cell_type": "markdown",
   "id": "f18bcdf4-5986-4440-867c-24ddbe34288e",
   "metadata": {},
   "source": [
    "##### divide the training set and test set first,standardlize the Amount,and then perform SMOTE oversampling"
   ]
  },
  {
   "cell_type": "code",
   "execution_count": 13,
   "id": "c6317bb9-c725-461a-88ff-25fea11a10a1",
   "metadata": {},
   "outputs": [],
   "source": [
    "x=data.drop('Class',axis=1)\n",
    "y=data['Class']\n",
    "x_train,x_test,y_train,y_test=train_test_split(x,y,test_size=0.3,stratify=y,random_state=1)\n",
    "standardScaler=StandardScaler()\n",
    "x_train['standAmount']=standardScaler.fit_transform(x_train[\"Amount\"].values.reshape(-1,1))\n",
    "x_test['standAmount']=standardScaler.fit_transform(x_test['Amount'].values.reshape(-1,1))\n",
    "x_train=x_train.drop([\"Time\",\"Amount\"],axis=1)\n",
    "x_test=x_test.drop([\"Time\",\"Amount\"],axis=1)"
   ]
  },
  {
   "cell_type": "code",
   "execution_count": 14,
   "id": "03054066-f934-44da-8d17-9ad5a1011f63",
   "metadata": {},
   "outputs": [
    {
     "data": {
      "text/html": [
       "<div>\n",
       "<style scoped>\n",
       "    .dataframe tbody tr th:only-of-type {\n",
       "        vertical-align: middle;\n",
       "    }\n",
       "\n",
       "    .dataframe tbody tr th {\n",
       "        vertical-align: top;\n",
       "    }\n",
       "\n",
       "    .dataframe thead th {\n",
       "        text-align: right;\n",
       "    }\n",
       "</style>\n",
       "<table border=\"1\" class=\"dataframe\">\n",
       "  <thead>\n",
       "    <tr style=\"text-align: right;\">\n",
       "      <th></th>\n",
       "      <th>Time</th>\n",
       "      <th>V1</th>\n",
       "      <th>V2</th>\n",
       "      <th>V3</th>\n",
       "      <th>V4</th>\n",
       "      <th>V5</th>\n",
       "      <th>V6</th>\n",
       "      <th>V7</th>\n",
       "      <th>V8</th>\n",
       "      <th>V9</th>\n",
       "      <th>...</th>\n",
       "      <th>V20</th>\n",
       "      <th>V21</th>\n",
       "      <th>V22</th>\n",
       "      <th>V23</th>\n",
       "      <th>V24</th>\n",
       "      <th>V25</th>\n",
       "      <th>V26</th>\n",
       "      <th>V27</th>\n",
       "      <th>V28</th>\n",
       "      <th>Amount</th>\n",
       "    </tr>\n",
       "  </thead>\n",
       "  <tbody>\n",
       "    <tr>\n",
       "      <th>0</th>\n",
       "      <td>0.0</td>\n",
       "      <td>-1.359807</td>\n",
       "      <td>-0.072781</td>\n",
       "      <td>2.536347</td>\n",
       "      <td>1.378155</td>\n",
       "      <td>-0.338321</td>\n",
       "      <td>0.462388</td>\n",
       "      <td>0.239599</td>\n",
       "      <td>0.098698</td>\n",
       "      <td>0.363787</td>\n",
       "      <td>...</td>\n",
       "      <td>0.251412</td>\n",
       "      <td>-0.018307</td>\n",
       "      <td>0.277838</td>\n",
       "      <td>-0.110474</td>\n",
       "      <td>0.066928</td>\n",
       "      <td>0.128539</td>\n",
       "      <td>-0.189115</td>\n",
       "      <td>0.133558</td>\n",
       "      <td>-0.021053</td>\n",
       "      <td>149.62</td>\n",
       "    </tr>\n",
       "    <tr>\n",
       "      <th>1</th>\n",
       "      <td>0.0</td>\n",
       "      <td>1.191857</td>\n",
       "      <td>0.266151</td>\n",
       "      <td>0.166480</td>\n",
       "      <td>0.448154</td>\n",
       "      <td>0.060018</td>\n",
       "      <td>-0.082361</td>\n",
       "      <td>-0.078803</td>\n",
       "      <td>0.085102</td>\n",
       "      <td>-0.255425</td>\n",
       "      <td>...</td>\n",
       "      <td>-0.069083</td>\n",
       "      <td>-0.225775</td>\n",
       "      <td>-0.638672</td>\n",
       "      <td>0.101288</td>\n",
       "      <td>-0.339846</td>\n",
       "      <td>0.167170</td>\n",
       "      <td>0.125895</td>\n",
       "      <td>-0.008983</td>\n",
       "      <td>0.014724</td>\n",
       "      <td>2.69</td>\n",
       "    </tr>\n",
       "    <tr>\n",
       "      <th>2</th>\n",
       "      <td>1.0</td>\n",
       "      <td>-1.358354</td>\n",
       "      <td>-1.340163</td>\n",
       "      <td>1.773209</td>\n",
       "      <td>0.379780</td>\n",
       "      <td>-0.503198</td>\n",
       "      <td>1.800499</td>\n",
       "      <td>0.791461</td>\n",
       "      <td>0.247676</td>\n",
       "      <td>-1.514654</td>\n",
       "      <td>...</td>\n",
       "      <td>0.524980</td>\n",
       "      <td>0.247998</td>\n",
       "      <td>0.771679</td>\n",
       "      <td>0.909412</td>\n",
       "      <td>-0.689281</td>\n",
       "      <td>-0.327642</td>\n",
       "      <td>-0.139097</td>\n",
       "      <td>-0.055353</td>\n",
       "      <td>-0.059752</td>\n",
       "      <td>378.66</td>\n",
       "    </tr>\n",
       "    <tr>\n",
       "      <th>3</th>\n",
       "      <td>1.0</td>\n",
       "      <td>-0.966272</td>\n",
       "      <td>-0.185226</td>\n",
       "      <td>1.792993</td>\n",
       "      <td>-0.863291</td>\n",
       "      <td>-0.010309</td>\n",
       "      <td>1.247203</td>\n",
       "      <td>0.237609</td>\n",
       "      <td>0.377436</td>\n",
       "      <td>-1.387024</td>\n",
       "      <td>...</td>\n",
       "      <td>-0.208038</td>\n",
       "      <td>-0.108300</td>\n",
       "      <td>0.005274</td>\n",
       "      <td>-0.190321</td>\n",
       "      <td>-1.175575</td>\n",
       "      <td>0.647376</td>\n",
       "      <td>-0.221929</td>\n",
       "      <td>0.062723</td>\n",
       "      <td>0.061458</td>\n",
       "      <td>123.50</td>\n",
       "    </tr>\n",
       "    <tr>\n",
       "      <th>4</th>\n",
       "      <td>2.0</td>\n",
       "      <td>-1.158233</td>\n",
       "      <td>0.877737</td>\n",
       "      <td>1.548718</td>\n",
       "      <td>0.403034</td>\n",
       "      <td>-0.407193</td>\n",
       "      <td>0.095921</td>\n",
       "      <td>0.592941</td>\n",
       "      <td>-0.270533</td>\n",
       "      <td>0.817739</td>\n",
       "      <td>...</td>\n",
       "      <td>0.408542</td>\n",
       "      <td>-0.009431</td>\n",
       "      <td>0.798278</td>\n",
       "      <td>-0.137458</td>\n",
       "      <td>0.141267</td>\n",
       "      <td>-0.206010</td>\n",
       "      <td>0.502292</td>\n",
       "      <td>0.219422</td>\n",
       "      <td>0.215153</td>\n",
       "      <td>69.99</td>\n",
       "    </tr>\n",
       "  </tbody>\n",
       "</table>\n",
       "<p>5 rows × 30 columns</p>\n",
       "</div>"
      ],
      "text/plain": [
       "   Time        V1        V2        V3        V4        V5        V6        V7  \\\n",
       "0   0.0 -1.359807 -0.072781  2.536347  1.378155 -0.338321  0.462388  0.239599   \n",
       "1   0.0  1.191857  0.266151  0.166480  0.448154  0.060018 -0.082361 -0.078803   \n",
       "2   1.0 -1.358354 -1.340163  1.773209  0.379780 -0.503198  1.800499  0.791461   \n",
       "3   1.0 -0.966272 -0.185226  1.792993 -0.863291 -0.010309  1.247203  0.237609   \n",
       "4   2.0 -1.158233  0.877737  1.548718  0.403034 -0.407193  0.095921  0.592941   \n",
       "\n",
       "         V8        V9  ...       V20       V21       V22       V23       V24  \\\n",
       "0  0.098698  0.363787  ...  0.251412 -0.018307  0.277838 -0.110474  0.066928   \n",
       "1  0.085102 -0.255425  ... -0.069083 -0.225775 -0.638672  0.101288 -0.339846   \n",
       "2  0.247676 -1.514654  ...  0.524980  0.247998  0.771679  0.909412 -0.689281   \n",
       "3  0.377436 -1.387024  ... -0.208038 -0.108300  0.005274 -0.190321 -1.175575   \n",
       "4 -0.270533  0.817739  ...  0.408542 -0.009431  0.798278 -0.137458  0.141267   \n",
       "\n",
       "        V25       V26       V27       V28  Amount  \n",
       "0  0.128539 -0.189115  0.133558 -0.021053  149.62  \n",
       "1  0.167170  0.125895 -0.008983  0.014724    2.69  \n",
       "2 -0.327642 -0.139097 -0.055353 -0.059752  378.66  \n",
       "3  0.647376 -0.221929  0.062723  0.061458  123.50  \n",
       "4 -0.206010  0.502292  0.219422  0.215153   69.99  \n",
       "\n",
       "[5 rows x 30 columns]"
      ]
     },
     "execution_count": 14,
     "metadata": {},
     "output_type": "execute_result"
    }
   ],
   "source": [
    "x.head()"
   ]
  },
  {
   "cell_type": "code",
   "execution_count": 15,
   "id": "86d15041-0c8c-4337-b0ef-9b2682533ed7",
   "metadata": {},
   "outputs": [
    {
     "data": {
      "text/html": [
       "<div>\n",
       "<style scoped>\n",
       "    .dataframe tbody tr th:only-of-type {\n",
       "        vertical-align: middle;\n",
       "    }\n",
       "\n",
       "    .dataframe tbody tr th {\n",
       "        vertical-align: top;\n",
       "    }\n",
       "\n",
       "    .dataframe thead th {\n",
       "        text-align: right;\n",
       "    }\n",
       "</style>\n",
       "<table border=\"1\" class=\"dataframe\">\n",
       "  <thead>\n",
       "    <tr style=\"text-align: right;\">\n",
       "      <th></th>\n",
       "      <th>V1</th>\n",
       "      <th>V2</th>\n",
       "      <th>V3</th>\n",
       "      <th>V4</th>\n",
       "      <th>V5</th>\n",
       "      <th>V6</th>\n",
       "      <th>V7</th>\n",
       "      <th>V8</th>\n",
       "      <th>V9</th>\n",
       "      <th>V10</th>\n",
       "      <th>...</th>\n",
       "      <th>V20</th>\n",
       "      <th>V21</th>\n",
       "      <th>V22</th>\n",
       "      <th>V23</th>\n",
       "      <th>V24</th>\n",
       "      <th>V25</th>\n",
       "      <th>V26</th>\n",
       "      <th>V27</th>\n",
       "      <th>V28</th>\n",
       "      <th>standAmount</th>\n",
       "    </tr>\n",
       "  </thead>\n",
       "  <tbody>\n",
       "    <tr>\n",
       "      <th>105644</th>\n",
       "      <td>1.135011</td>\n",
       "      <td>-0.663898</td>\n",
       "      <td>0.703924</td>\n",
       "      <td>0.069871</td>\n",
       "      <td>-0.488154</td>\n",
       "      <td>1.312078</td>\n",
       "      <td>-0.897198</td>\n",
       "      <td>0.463148</td>\n",
       "      <td>-0.478801</td>\n",
       "      <td>0.396879</td>\n",
       "      <td>...</td>\n",
       "      <td>-0.677938</td>\n",
       "      <td>-0.331487</td>\n",
       "      <td>-0.069644</td>\n",
       "      <td>0.183987</td>\n",
       "      <td>-0.618678</td>\n",
       "      <td>0.089015</td>\n",
       "      <td>0.521419</td>\n",
       "      <td>0.086390</td>\n",
       "      <td>0.004782</td>\n",
       "      <td>-0.354552</td>\n",
       "    </tr>\n",
       "    <tr>\n",
       "      <th>139790</th>\n",
       "      <td>-1.786262</td>\n",
       "      <td>1.118886</td>\n",
       "      <td>1.347969</td>\n",
       "      <td>-0.379954</td>\n",
       "      <td>-1.240680</td>\n",
       "      <td>0.467667</td>\n",
       "      <td>0.081125</td>\n",
       "      <td>0.964933</td>\n",
       "      <td>0.042585</td>\n",
       "      <td>-1.275754</td>\n",
       "      <td>...</td>\n",
       "      <td>-0.099266</td>\n",
       "      <td>-0.047902</td>\n",
       "      <td>-0.182530</td>\n",
       "      <td>-0.162509</td>\n",
       "      <td>-0.405178</td>\n",
       "      <td>0.512595</td>\n",
       "      <td>0.299398</td>\n",
       "      <td>-0.042882</td>\n",
       "      <td>-0.059130</td>\n",
       "      <td>0.214653</td>\n",
       "    </tr>\n",
       "    <tr>\n",
       "      <th>158758</th>\n",
       "      <td>-0.683414</td>\n",
       "      <td>0.679341</td>\n",
       "      <td>2.615556</td>\n",
       "      <td>2.362138</td>\n",
       "      <td>-0.012716</td>\n",
       "      <td>0.603826</td>\n",
       "      <td>0.574245</td>\n",
       "      <td>-0.679978</td>\n",
       "      <td>-0.811409</td>\n",
       "      <td>2.035115</td>\n",
       "      <td>...</td>\n",
       "      <td>0.372610</td>\n",
       "      <td>-0.007167</td>\n",
       "      <td>0.463597</td>\n",
       "      <td>-0.243134</td>\n",
       "      <td>0.084557</td>\n",
       "      <td>-0.453177</td>\n",
       "      <td>2.687676</td>\n",
       "      <td>-1.084269</td>\n",
       "      <td>-0.511626</td>\n",
       "      <td>-0.212221</td>\n",
       "    </tr>\n",
       "    <tr>\n",
       "      <th>130845</th>\n",
       "      <td>1.183540</td>\n",
       "      <td>-0.493000</td>\n",
       "      <td>0.755202</td>\n",
       "      <td>-0.963160</td>\n",
       "      <td>-0.850295</td>\n",
       "      <td>0.145905</td>\n",
       "      <td>-0.794616</td>\n",
       "      <td>0.302199</td>\n",
       "      <td>1.656943</td>\n",
       "      <td>-0.939787</td>\n",
       "      <td>...</td>\n",
       "      <td>-0.168134</td>\n",
       "      <td>0.039588</td>\n",
       "      <td>0.339340</td>\n",
       "      <td>-0.053125</td>\n",
       "      <td>-0.298049</td>\n",
       "      <td>0.423994</td>\n",
       "      <td>-0.652284</td>\n",
       "      <td>0.102582</td>\n",
       "      <td>0.017292</td>\n",
       "      <td>-0.354552</td>\n",
       "    </tr>\n",
       "    <tr>\n",
       "      <th>88908</th>\n",
       "      <td>1.137583</td>\n",
       "      <td>0.105478</td>\n",
       "      <td>0.784402</td>\n",
       "      <td>1.254973</td>\n",
       "      <td>-0.600870</td>\n",
       "      <td>-0.360836</td>\n",
       "      <td>-0.161727</td>\n",
       "      <td>0.076092</td>\n",
       "      <td>0.280587</td>\n",
       "      <td>0.015787</td>\n",
       "      <td>...</td>\n",
       "      <td>-0.178887</td>\n",
       "      <td>-0.195692</td>\n",
       "      <td>-0.443664</td>\n",
       "      <td>0.046270</td>\n",
       "      <td>0.516246</td>\n",
       "      <td>0.447943</td>\n",
       "      <td>-0.554949</td>\n",
       "      <td>0.031821</td>\n",
       "      <td>0.018177</td>\n",
       "      <td>-0.327857</td>\n",
       "    </tr>\n",
       "  </tbody>\n",
       "</table>\n",
       "<p>5 rows × 29 columns</p>\n",
       "</div>"
      ],
      "text/plain": [
       "              V1        V2        V3        V4        V5        V6        V7  \\\n",
       "105644  1.135011 -0.663898  0.703924  0.069871 -0.488154  1.312078 -0.897198   \n",
       "139790 -1.786262  1.118886  1.347969 -0.379954 -1.240680  0.467667  0.081125   \n",
       "158758 -0.683414  0.679341  2.615556  2.362138 -0.012716  0.603826  0.574245   \n",
       "130845  1.183540 -0.493000  0.755202 -0.963160 -0.850295  0.145905 -0.794616   \n",
       "88908   1.137583  0.105478  0.784402  1.254973 -0.600870 -0.360836 -0.161727   \n",
       "\n",
       "              V8        V9       V10  ...       V20       V21       V22  \\\n",
       "105644  0.463148 -0.478801  0.396879  ... -0.677938 -0.331487 -0.069644   \n",
       "139790  0.964933  0.042585 -1.275754  ... -0.099266 -0.047902 -0.182530   \n",
       "158758 -0.679978 -0.811409  2.035115  ...  0.372610 -0.007167  0.463597   \n",
       "130845  0.302199  1.656943 -0.939787  ... -0.168134  0.039588  0.339340   \n",
       "88908   0.076092  0.280587  0.015787  ... -0.178887 -0.195692 -0.443664   \n",
       "\n",
       "             V23       V24       V25       V26       V27       V28  \\\n",
       "105644  0.183987 -0.618678  0.089015  0.521419  0.086390  0.004782   \n",
       "139790 -0.162509 -0.405178  0.512595  0.299398 -0.042882 -0.059130   \n",
       "158758 -0.243134  0.084557 -0.453177  2.687676 -1.084269 -0.511626   \n",
       "130845 -0.053125 -0.298049  0.423994 -0.652284  0.102582  0.017292   \n",
       "88908   0.046270  0.516246  0.447943 -0.554949  0.031821  0.018177   \n",
       "\n",
       "        standAmount  \n",
       "105644    -0.354552  \n",
       "139790     0.214653  \n",
       "158758    -0.212221  \n",
       "130845    -0.354552  \n",
       "88908     -0.327857  \n",
       "\n",
       "[5 rows x 29 columns]"
      ]
     },
     "execution_count": 15,
     "metadata": {},
     "output_type": "execute_result"
    }
   ],
   "source": [
    "x_train.head()"
   ]
  },
  {
   "cell_type": "code",
   "execution_count": 16,
   "id": "8e36e0f8-88a8-4707-88cb-ab5c38399684",
   "metadata": {},
   "outputs": [],
   "source": [
    "SM=SMOTE(random_state=1)\n",
    "x_train_SM,y_train_SM=SM.fit_resample(x_train,y_train)"
   ]
  },
  {
   "cell_type": "code",
   "execution_count": 17,
   "id": "3e45de53-2707-42b1-8cd3-2342e6bdfb49",
   "metadata": {},
   "outputs": [
    {
     "data": {
      "text/html": [
       "<div>\n",
       "<style scoped>\n",
       "    .dataframe tbody tr th:only-of-type {\n",
       "        vertical-align: middle;\n",
       "    }\n",
       "\n",
       "    .dataframe tbody tr th {\n",
       "        vertical-align: top;\n",
       "    }\n",
       "\n",
       "    .dataframe thead th {\n",
       "        text-align: right;\n",
       "    }\n",
       "</style>\n",
       "<table border=\"1\" class=\"dataframe\">\n",
       "  <thead>\n",
       "    <tr style=\"text-align: right;\">\n",
       "      <th></th>\n",
       "      <th>V1</th>\n",
       "      <th>V2</th>\n",
       "      <th>V3</th>\n",
       "      <th>V4</th>\n",
       "      <th>V5</th>\n",
       "      <th>V6</th>\n",
       "      <th>V7</th>\n",
       "      <th>V8</th>\n",
       "      <th>V9</th>\n",
       "      <th>V10</th>\n",
       "      <th>...</th>\n",
       "      <th>V20</th>\n",
       "      <th>V21</th>\n",
       "      <th>V22</th>\n",
       "      <th>V23</th>\n",
       "      <th>V24</th>\n",
       "      <th>V25</th>\n",
       "      <th>V26</th>\n",
       "      <th>V27</th>\n",
       "      <th>V28</th>\n",
       "      <th>standAmount</th>\n",
       "    </tr>\n",
       "  </thead>\n",
       "  <tbody>\n",
       "    <tr>\n",
       "      <th>0</th>\n",
       "      <td>1.135011</td>\n",
       "      <td>-0.663898</td>\n",
       "      <td>0.703924</td>\n",
       "      <td>0.069871</td>\n",
       "      <td>-0.488154</td>\n",
       "      <td>1.312078</td>\n",
       "      <td>-0.897198</td>\n",
       "      <td>0.463148</td>\n",
       "      <td>-0.478801</td>\n",
       "      <td>0.396879</td>\n",
       "      <td>...</td>\n",
       "      <td>-0.677938</td>\n",
       "      <td>-0.331487</td>\n",
       "      <td>-0.069644</td>\n",
       "      <td>0.183987</td>\n",
       "      <td>-0.618678</td>\n",
       "      <td>0.089015</td>\n",
       "      <td>0.521419</td>\n",
       "      <td>0.086390</td>\n",
       "      <td>0.004782</td>\n",
       "      <td>-0.354552</td>\n",
       "    </tr>\n",
       "    <tr>\n",
       "      <th>1</th>\n",
       "      <td>-1.786262</td>\n",
       "      <td>1.118886</td>\n",
       "      <td>1.347969</td>\n",
       "      <td>-0.379954</td>\n",
       "      <td>-1.240680</td>\n",
       "      <td>0.467667</td>\n",
       "      <td>0.081125</td>\n",
       "      <td>0.964933</td>\n",
       "      <td>0.042585</td>\n",
       "      <td>-1.275754</td>\n",
       "      <td>...</td>\n",
       "      <td>-0.099266</td>\n",
       "      <td>-0.047902</td>\n",
       "      <td>-0.182530</td>\n",
       "      <td>-0.162509</td>\n",
       "      <td>-0.405178</td>\n",
       "      <td>0.512595</td>\n",
       "      <td>0.299398</td>\n",
       "      <td>-0.042882</td>\n",
       "      <td>-0.059130</td>\n",
       "      <td>0.214653</td>\n",
       "    </tr>\n",
       "    <tr>\n",
       "      <th>2</th>\n",
       "      <td>-0.683414</td>\n",
       "      <td>0.679341</td>\n",
       "      <td>2.615556</td>\n",
       "      <td>2.362138</td>\n",
       "      <td>-0.012716</td>\n",
       "      <td>0.603826</td>\n",
       "      <td>0.574245</td>\n",
       "      <td>-0.679978</td>\n",
       "      <td>-0.811409</td>\n",
       "      <td>2.035115</td>\n",
       "      <td>...</td>\n",
       "      <td>0.372610</td>\n",
       "      <td>-0.007167</td>\n",
       "      <td>0.463597</td>\n",
       "      <td>-0.243134</td>\n",
       "      <td>0.084557</td>\n",
       "      <td>-0.453177</td>\n",
       "      <td>2.687676</td>\n",
       "      <td>-1.084269</td>\n",
       "      <td>-0.511626</td>\n",
       "      <td>-0.212221</td>\n",
       "    </tr>\n",
       "    <tr>\n",
       "      <th>3</th>\n",
       "      <td>1.183540</td>\n",
       "      <td>-0.493000</td>\n",
       "      <td>0.755202</td>\n",
       "      <td>-0.963160</td>\n",
       "      <td>-0.850295</td>\n",
       "      <td>0.145905</td>\n",
       "      <td>-0.794616</td>\n",
       "      <td>0.302199</td>\n",
       "      <td>1.656943</td>\n",
       "      <td>-0.939787</td>\n",
       "      <td>...</td>\n",
       "      <td>-0.168134</td>\n",
       "      <td>0.039588</td>\n",
       "      <td>0.339340</td>\n",
       "      <td>-0.053125</td>\n",
       "      <td>-0.298049</td>\n",
       "      <td>0.423994</td>\n",
       "      <td>-0.652284</td>\n",
       "      <td>0.102582</td>\n",
       "      <td>0.017292</td>\n",
       "      <td>-0.354552</td>\n",
       "    </tr>\n",
       "    <tr>\n",
       "      <th>4</th>\n",
       "      <td>1.137583</td>\n",
       "      <td>0.105478</td>\n",
       "      <td>0.784402</td>\n",
       "      <td>1.254973</td>\n",
       "      <td>-0.600870</td>\n",
       "      <td>-0.360836</td>\n",
       "      <td>-0.161727</td>\n",
       "      <td>0.076092</td>\n",
       "      <td>0.280587</td>\n",
       "      <td>0.015787</td>\n",
       "      <td>...</td>\n",
       "      <td>-0.178887</td>\n",
       "      <td>-0.195692</td>\n",
       "      <td>-0.443664</td>\n",
       "      <td>0.046270</td>\n",
       "      <td>0.516246</td>\n",
       "      <td>0.447943</td>\n",
       "      <td>-0.554949</td>\n",
       "      <td>0.031821</td>\n",
       "      <td>0.018177</td>\n",
       "      <td>-0.327857</td>\n",
       "    </tr>\n",
       "  </tbody>\n",
       "</table>\n",
       "<p>5 rows × 29 columns</p>\n",
       "</div>"
      ],
      "text/plain": [
       "         V1        V2        V3        V4        V5        V6        V7  \\\n",
       "0  1.135011 -0.663898  0.703924  0.069871 -0.488154  1.312078 -0.897198   \n",
       "1 -1.786262  1.118886  1.347969 -0.379954 -1.240680  0.467667  0.081125   \n",
       "2 -0.683414  0.679341  2.615556  2.362138 -0.012716  0.603826  0.574245   \n",
       "3  1.183540 -0.493000  0.755202 -0.963160 -0.850295  0.145905 -0.794616   \n",
       "4  1.137583  0.105478  0.784402  1.254973 -0.600870 -0.360836 -0.161727   \n",
       "\n",
       "         V8        V9       V10  ...       V20       V21       V22       V23  \\\n",
       "0  0.463148 -0.478801  0.396879  ... -0.677938 -0.331487 -0.069644  0.183987   \n",
       "1  0.964933  0.042585 -1.275754  ... -0.099266 -0.047902 -0.182530 -0.162509   \n",
       "2 -0.679978 -0.811409  2.035115  ...  0.372610 -0.007167  0.463597 -0.243134   \n",
       "3  0.302199  1.656943 -0.939787  ... -0.168134  0.039588  0.339340 -0.053125   \n",
       "4  0.076092  0.280587  0.015787  ... -0.178887 -0.195692 -0.443664  0.046270   \n",
       "\n",
       "        V24       V25       V26       V27       V28  standAmount  \n",
       "0 -0.618678  0.089015  0.521419  0.086390  0.004782    -0.354552  \n",
       "1 -0.405178  0.512595  0.299398 -0.042882 -0.059130     0.214653  \n",
       "2  0.084557 -0.453177  2.687676 -1.084269 -0.511626    -0.212221  \n",
       "3 -0.298049  0.423994 -0.652284  0.102582  0.017292    -0.354552  \n",
       "4  0.516246  0.447943 -0.554949  0.031821  0.018177    -0.327857  \n",
       "\n",
       "[5 rows x 29 columns]"
      ]
     },
     "execution_count": 17,
     "metadata": {},
     "output_type": "execute_result"
    }
   ],
   "source": [
    "x_train_SM.head()"
   ]
  },
  {
   "cell_type": "code",
   "execution_count": 20,
   "id": "008aaa5a-4df4-4036-b19c-7c12928f1fcc",
   "metadata": {},
   "outputs": [],
   "source": [
    "import xgboost as xgb\n",
    "from sklearn.linear_model import LogisticRegression\n",
    "from sklearn.ensemble import RandomForestClassifier, VotingClassifier\n",
    "from sklearn.metrics import precision_score, recall_score, confusion_matrix, classification_report, roc_curve, precision_recall_curve"
   ]
  },
  {
   "cell_type": "markdown",
   "id": "c69d4e77-8ea9-4436-8f43-04b2d7827ac2",
   "metadata": {},
   "source": [
    "# 2. modeling and evaluation"
   ]
  },
  {
   "cell_type": "markdown",
   "id": "8f6ca780-53eb-4331-b112-c6629b7455bd",
   "metadata": {},
   "source": [
    "## 2.1 Evaluation indicators"
   ]
  },
  {
   "cell_type": "markdown",
   "id": "51859bf4-12eb-4dba-ad2f-ab048d898d6c",
   "metadata": {},
   "source": [
    "### 2.1.1 confusion matrix"
   ]
  },
  {
   "cell_type": "code",
   "execution_count": 39,
   "id": "b9c95f06-6c23-4642-b628-c8896c87da8d",
   "metadata": {},
   "outputs": [],
   "source": [
    "import itertools \n",
    "def plot_confusion_matrix(cm, classes,\n",
    "                          normalize = False,\n",
    "                          title = 'Confusion matrix\"',\n",
    "                          cmap = plt.cm.Blues) :\n",
    "    plt.imshow(cm, interpolation = 'nearest', cmap = cmap)\n",
    "    plt.title(title)\n",
    "    plt.colorbar()\n",
    "    tick_marks = np.arange(len(classes))\n",
    "    plt.xticks(tick_marks, classes, rotation = 0)\n",
    "    plt.yticks(tick_marks, classes)\n",
    "\n",
    "    thresh = cm.max() / 2.\n",
    "    for i, j in itertools.product(range(cm.shape[0]), range(cm.shape[1])) :\n",
    "        plt.text(j, i, cm[i, j],\n",
    "                 horizontalalignment = 'center',\n",
    "                 color = 'white' if cm[i, j] > thresh else 'black')\n",
    "\n",
    "    plt.tight_layout()\n",
    "    plt.ylabel('True label')\n",
    "    plt.xlabel('Predicted label')"
   ]
  },
  {
   "cell_type": "markdown",
   "id": "4a737ba5-4aff-4d57-bbef-9b89557016aa",
   "metadata": {},
   "source": [
    "### 2.1.2 precision, recall , F1-score"
   ]
  },
  {
   "cell_type": "code",
   "execution_count": 90,
   "id": "9711d8c7-8395-466b-bc58-2dfbcf7b96d0",
   "metadata": {},
   "outputs": [],
   "source": [
    "def show_metrics():\n",
    "    tp=cm[1,1]\n",
    "    fn=cm[1,0]\n",
    "    fp=cm[0,1]\n",
    "    tn=cm[0,0]\n",
    "    print(\"Precision = %.03f\"%(tp/(tp+fp)*100)+\"%\")\n",
    "    print(\"Recall = %.03f\"%(tp/(tp+fn)*100)+\"%\" )\n",
    "    print(\"F1-score = %.03f\"% (2*(((tp/(tp+fp))*(tp/(tp+fn)))/((tp/(tp+fp))+(tp/(tp+fn))))*100)+\"%\")\n",
    "    print(\"Accuracy= %.03f\"% ((tp+tn)/(tp+tn+fp+fn)*100)+\"%\")"
   ]
  },
  {
   "cell_type": "markdown",
   "id": "0d78b118-c9d7-403a-b17f-219584a104f3",
   "metadata": {},
   "source": [
    "### 2.1.3 precision-recall curve"
   ]
  },
  {
   "cell_type": "code",
   "execution_count": 25,
   "id": "26c47314-e09c-43b9-8d39-47a9d54cb1ba",
   "metadata": {},
   "outputs": [],
   "source": [
    "def plot_precision_recall():\n",
    "    plt.step(recall,precision,color='b',alpha=0.2,where='post')\n",
    "    plt.fill_between(recall,precision,step='post',alpha=0.2,color='b')\n",
    "    plt.plot(recall,precision,linewidth=2)\n",
    "    plt.xlim([0.0,1])\n",
    "    plt.ylim([0.0,1.05])\n",
    "    plt.xlabel('Recall')\n",
    "    plt.ylabel('Precision')\n",
    "    plt.title('Precision Recall Curve')\n",
    "    plt.show()"
   ]
  },
  {
   "cell_type": "markdown",
   "id": "ae4a3197-0155-4fb6-9dae-39ffa9d8fe13",
   "metadata": {},
   "source": [
    "### 2.1.4 ROC Cure"
   ]
  },
  {
   "cell_type": "code",
   "execution_count": 85,
   "id": "d5f0ed9d-dd40-4983-81b4-2ed491e1ca87",
   "metadata": {},
   "outputs": [],
   "source": [
    "from sklearn.metrics import auc\n",
    "def plot_roc():\n",
    "    roc_auc=auc(fpr,tpr)\n",
    "    plt.plot(fpr,tpr,label='AUC=%0.3f'% roc_auc,linewidth=2)\n",
    "    plt.legend(loc='lower right')\n",
    "    plt.plot([0,1],[0,1],'k--',linewidth=2)\n",
    "    plt.xlim([0.0,0.001])\n",
    "    plt.ylim([0.0,1.05])\n",
    "    plt.xlabel('False Positive Rate')\n",
    "    plt.ylabel('True Positive Rate')\n",
    "    plt.title('ROC Curve')\n",
    "    plt.show()"
   ]
  },
  {
   "cell_type": "markdown",
   "id": "37c363e5-c0d1-4d7e-9297-cc7c5b277a4f",
   "metadata": {},
   "source": [
    "### 2.1.5 Feature importance plot"
   ]
  },
  {
   "cell_type": "code",
   "execution_count": 83,
   "id": "9e8befde-6875-446d-b58a-6da24d684aa2",
   "metadata": {},
   "outputs": [],
   "source": [
    "predictors = ['V1', 'V2', 'V3', 'V4', 'V5', 'V6', 'V7', 'V8', 'V9', 'V10',\n",
    "       'V11', 'V12', 'V13', 'V14', 'V15', 'V16', 'V17', 'V18', 'V19',\n",
    "       'V20', 'V21', 'V22', 'V23', 'V24', 'V25', 'V26', 'V27', 'V28',\n",
    "       'standAmount']\n",
    "def plot_feature_importance(model):\n",
    "    tmp=pd.DataFrame({'Feature':predictors,'Feature importance':model.feature_importances_})\n",
    "    tmp=tmp.sort_values(by='Feature importance',ascending=False)\n",
    "    plt.figure(figsize=(15,8))\n",
    "    plt.title('Feature importance',fontsize=15)\n",
    "    s=sns.barplot(x='Feature',y='Feature importance',data=tmp)\n",
    "    s.set_xticklabels(s.get_xticklabels(),rotation=90)\n",
    "    plt.show()"
   ]
  },
  {
   "cell_type": "markdown",
   "id": "da641916-becc-4141-88db-d2859cbe03e9",
   "metadata": {},
   "source": [
    "## 2.2 modeling and comparison"
   ]
  },
  {
   "cell_type": "markdown",
   "id": "e0ff9681-2382-4946-be45-b3c4a31e2f0e",
   "metadata": {},
   "source": [
    "### 2.2.1 LogisticRegression"
   ]
  },
  {
   "cell_type": "markdown",
   "id": "e18b174c-a4e0-471c-be67-25f52889cd16",
   "metadata": {},
   "source": [
    "#### 1 modeling"
   ]
  },
  {
   "cell_type": "code",
   "execution_count": 29,
   "id": "833ddbc7-4c6a-46af-9e39-4fa2a63bc894",
   "metadata": {},
   "outputs": [],
   "source": [
    "lr=LogisticRegression()\n",
    "lr.fit(x_train_SM,y_train_SM)\n",
    "y_pred=lr.predict(x_test)\n",
    "y_score=lr.decision_function(x_test)"
   ]
  },
  {
   "cell_type": "markdown",
   "id": "be0aa44f-11d8-4eb3-b83c-45a8a104308d",
   "metadata": {},
   "source": [
    "#### 2 comparison"
   ]
  },
  {
   "cell_type": "code",
   "execution_count": 91,
   "id": "389b734d-4385-458f-8ff6-95e0dbc59c1f",
   "metadata": {},
   "outputs": [
    {
     "name": "stdout",
     "output_type": "stream",
     "text": [
      "[[83153  2142]\n",
      " [   11   137]]\n"
     ]
    },
    {
     "data": {
      "image/png": "[encoded data removed]",
      "text/plain": [
       "<Figure size 432x288 with 2 Axes>"
      ]
     },
     "metadata": {
      "needs_background": "light"
     },
     "output_type": "display_data"
    },
    {
     "name": "stdout",
     "output_type": "stream",
     "text": [
      "Precision = 6.011%\n",
      "Recall = 92.568%\n",
      "F1-score = 11.290%\n",
      "Accuracy= 97.480%\n"
     ]
    },
    {
     "data": {
      "image/png": "[encoded data removed]",
      "text/plain": [
       "<Figure size 432x288 with 1 Axes>"
      ]
     },
     "metadata": {
      "needs_background": "light"
     },
     "output_type": "display_data"
    },
    {
     "data": {
      "image/png": "[encoded data removed]",
      "text/plain": [
       "<Figure size 432x288 with 1 Axes>"
      ]
     },
     "metadata": {
      "needs_background": "light"
     },
     "output_type": "display_data"
    }
   ],
   "source": [
    "cm=confusion_matrix(y_test,y_pred)\n",
    "print(cm)\n",
    "class_names=[0,1]\n",
    "plt.figure()\n",
    "plot_confusion_matrix(cm,classes=class_names,title='Lr confusion matrix')\n",
    "plt.show()\n",
    "\n",
    "\n",
    "show_metrics()\n",
    "\n",
    "fpr,tpr,t=roc_curve(y_test,y_score)\n",
    "plot_roc()\n",
    "\n",
    "precision, recall, thresholds = precision_recall_curve(y_test, y_score)\n",
    "plot_precision_recall()"
   ]
  },
  {
   "cell_type": "code",
   "execution_count": 93,
   "id": "5afa0546-970c-47c1-88ac-90ae86e5dc1b",
   "metadata": {},
   "outputs": [
    {
     "name": "stdout",
     "output_type": "stream",
     "text": [
      "Parameters Currently in use:\n",
      "\n",
      "{'C': 1.0,\n",
      " 'class_weight': None,\n",
      " 'dual': False,\n",
      " 'fit_intercept': True,\n",
      " 'intercept_scaling': 1,\n",
      " 'l1_ratio': None,\n",
      " 'max_iter': 100,\n",
      " 'multi_class': 'auto',\n",
      " 'n_jobs': None,\n",
      " 'penalty': 'l2',\n",
      " 'random_state': None,\n",
      " 'solver': 'lbfgs',\n",
      " 'tol': 0.0001,\n",
      " 'verbose': 0,\n",
      " 'warm_start': False}\n"
     ]
    }
   ],
   "source": [
    "# show the parameters currently use\n",
    "from pprint import pprint\n",
    "print('Parameters Currently in use:\\n')\n",
    "pprint(lr.get_params())"
   ]
  },
  {
   "cell_type": "markdown",
   "id": "d357dba5-8f8f-4b4c-94ca-649f1c285c55",
   "metadata": {},
   "source": [
    "#### 3 parameter optimizaiton"
   ]
  },
  {
   "cell_type": "code",
   "execution_count": 97,
   "id": "3d3cae16-9ec6-4536-bfe1-6c9248a290f2",
   "metadata": {},
   "outputs": [
    {
     "name": "stdout",
     "output_type": "stream",
     "text": [
      "Fitting 5 folds for each of 16 candidates, totalling 80 fits\n",
      "the best parameters for using this model is:  {'C': 100, 'class_weight': 'balanced', 'penalty': 'l2'}\n"
     ]
    }
   ],
   "source": [
    "from sklearn.model_selection import GridSearchCV\n",
    "param_grid={\n",
    "    'penalty':['l1','l2'],\n",
    "    'class_weight':['balanced',None],\n",
    "    'C':[0.1,1,10,100]\n",
    "}\n",
    "CV_lr=GridSearchCV(estimator=lr,param_grid=param_grid,scoring='recall',verbose=1,n_jobs=-1)\n",
    "CV_lr.fit(x_train_SM,y_train_SM)\n",
    "best_parameters=CV_lr.best_params_\n",
    "print('the best parameters for using this model is: ',best_parameters)"
   ]
  },
  {
   "cell_type": "markdown",
   "id": "c34af1f8-1c69-45e2-9a14-bb68dc5fe276",
   "metadata": {},
   "source": [
    "#### 4 LR with the best parameters"
   ]
  },
  {
   "cell_type": "code",
   "execution_count": 100,
   "id": "05bfb394-69ca-4d35-b65c-dc999b5153fa",
   "metadata": {},
   "outputs": [
    {
     "data": {
      "image/png": "[encoded data removed]",
      "text/plain": [
       "<Figure size 432x288 with 2 Axes>"
      ]
     },
     "metadata": {
      "needs_background": "light"
     },
     "output_type": "display_data"
    },
    {
     "name": "stdout",
     "output_type": "stream",
     "text": [
      "Precision = 6.009%\n",
      "Recall = 92.568%\n",
      "F1-score = 11.285%\n",
      "Accuracy= 97.479%\n"
     ]
    },
    {
     "data": {
      "image/png": "[encoded data removed]",
      "text/plain": [
       "<Figure size 432x288 with 1 Axes>"
      ]
     },
     "metadata": {
      "needs_background": "light"
     },
     "output_type": "display_data"
    },
    {
     "data": {
      "image/png": "[encoded data removed]",
      "text/plain": [
       "<Figure size 432x288 with 1 Axes>"
      ]
     },
     "metadata": {
      "needs_background": "light"
     },
     "output_type": "display_data"
    }
   ],
   "source": [
    "lr=LogisticRegression(C=best_parameters['C'],\n",
    "                     penalty=best_parameters['penalty'],\n",
    "                     class_weight=best_parameters['class_weight'])\n",
    "lr.fit(x_train_SM,y_train_SM)\n",
    "y_pred=lr.predict(x_test)\n",
    "y_score=lr.decision_function(x_test)\n",
    "# Confusion maxtrix & metrics\n",
    "cm = confusion_matrix(y_test, y_pred)\n",
    "class_names = [0,1]\n",
    "plt.figure()\n",
    "plot_confusion_matrix(cm, \n",
    "                      classes=class_names, \n",
    "                      title='Lr confusion matrix')\n",
    "plt.show()\n",
    "\n",
    "show_metrics()\n",
    "\n",
    "# ROC curve\n",
    "fpr, tpr, t = roc_curve(y_test, y_score)\n",
    "plot_roc()\n",
    "\n",
    "# Precision-recall curve\n",
    "precision, recall, thresholds = precision_recall_curve(y_test, y_score)\n",
    "plot_precision_recall()\n",
    "\n",
    "fpr_lr, tpr_lr, t_lr = fpr, tpr, t\n",
    "precision_lr, recall_lr, thresholds_lr = precision, recall, thresholds"
   ]
  },
  {
   "cell_type": "markdown",
   "id": "2d102c10-5083-45c7-860b-172281a36c10",
   "metadata": {},
   "source": [
    "## conclusion: after parameters optimization, it did not occur high progress in LR"
   ]
  },
  {
   "cell_type": "code",
   "execution_count": null,
   "id": "5b169ea0-7b7b-4e6d-8759-c3afb7eee74c",
   "metadata": {},
   "outputs": [],
   "source": []
  },
  {
   "cell_type": "code",
   "execution_count": null,
   "id": "8940e47b-b02d-4124-a4c9-e1e3f43f9837",
   "metadata": {},
   "outputs": [],
   "source": []
  }
 ],
 "metadata": {
  "kernelspec": {
   "display_name": "Python 3 (ipykernel)",
   "language": "python",
   "name": "python3"
  },
  "language_info": {
   "codemirror_mode": {
    "name": "ipython",
    "version": 3
   },
   "file_extension": ".py",
   "mimetype": "text/x-python",
   "name": "python",
   "nbconvert_exporter": "python",
   "pygments_lexer": "ipython3",
   "version": "3.10.4"
  }
 },
 "nbformat": 4,
 "nbformat_minor": 5
}
